{
 "cells": [
  {
   "cell_type": "raw",
   "metadata": {},
   "source": []
  },
  {
   "cell_type": "code",
   "execution_count": 1,
   "metadata": {},
   "outputs": [
    {
     "data": {
      "application/vnd.jupyter.widget-view+json": {
       "model_id": "90226a4c2db04c0488bfe539d49ebe37",
       "version_major": 2,
       "version_minor": 0
      },
      "text/plain": [
       "interactive(children=(IntSlider(value=250, description='tosses_per_sample', max=500), IntSlider(value=1000, de…"
      ]
     },
     "metadata": {},
     "output_type": "display_data"
    }
   ],
   "source": [
    "\n",
    "%matplotlib inline \n",
    "\n",
    "\n",
    "from ipywidgets import interactive\n",
    "from scipy.stats import bernoulli \n",
    "import matplotlib.pyplot as plt\n",
    "import seaborn as sns\n",
    "import numpy as np\n",
    "\n",
    "\n",
    "def f(tosses_per_sample, number_of_samples):\n",
    "    if(tosses_per_sample ==0) :\n",
    "        print(\"come on toss it at least once!\")\n",
    "    else:\n",
    "        meanheads = np.zeros(number_of_samples)\n",
    "        for i in range(number_of_samples):\n",
    "          meanheads[i] = np.sum(bernoulli.rvs(0.5, loc=0, size= tosses_per_sample , random_state=None))\n",
    "        sns.distplot(meanheads, axlabel = \"number of heads\" )\n",
    "        plt.show()\n",
    "\n",
    "interactive_plot = interactive(f, tosses_per_sample=(0,500), number_of_samples=1000)\n",
    "output = interactive_plot.children[2]\n",
    "output.layout.height = '350px'\n",
    "interactive_plot"
   ]
  },
  {
   "cell_type": "code",
   "execution_count": null,
   "metadata": {
    "collapsed": true
   },
   "outputs": [],
   "source": []
  }
 ],
 "metadata": {
  "kernelspec": {
   "display_name": "Python 3",
   "language": "python",
   "name": "python3"
  },
  "language_info": {
   "codemirror_mode": {
    "name": "ipython",
    "version": 3
   },
   "file_extension": ".py",
   "mimetype": "text/x-python",
   "name": "python",
   "nbconvert_exporter": "python",
   "pygments_lexer": "ipython3",
   "version": "3.7.4"
  },
  "widgets": {
   "application/vnd.jupyter.widget-state+json": {
    "state": {
     "332a2681fcde46b0bcc1e56c629186c2": {
      "model_module": "@jupyter-widgets/controls",
      "model_module_version": "1.5.0",
      "model_name": "IntSliderModel",
      "state": {
       "description": "number_of_samples",
       "layout": "IPY_MODEL_b96bf9e3415844649138aabaa96f84d1",
       "max": 3000,
       "min": -1000,
       "style": "IPY_MODEL_48e13691fb2047ba8a4be8011706286c",
       "value": 1000
      }
     },
     "4582bff1bbbb423c9bc1132736c8fb64": {
      "model_module": "@jupyter-widgets/controls",
      "model_module_version": "1.5.0",
      "model_name": "IntSliderModel",
      "state": {
       "description": "tosses_per_sample",
       "layout": "IPY_MODEL_5c97469938ea4ecab5a5c8d72989fe9c",
       "max": 500,
       "style": "IPY_MODEL_8d94ebdfe9b34a25aeebae062cd24623",
       "value": 250
      }
     },
     "48e13691fb2047ba8a4be8011706286c": {
      "model_module": "@jupyter-widgets/controls",
      "model_module_version": "1.5.0",
      "model_name": "SliderStyleModel",
      "state": {
       "description_width": ""
      }
     },
     "5c97469938ea4ecab5a5c8d72989fe9c": {
      "model_module": "@jupyter-widgets/base",
      "model_module_version": "1.2.0",
      "model_name": "LayoutModel",
      "state": {}
     },
     "83a75810f7e24bd7a5594c6391a24020": {
      "model_module": "@jupyter-widgets/base",
      "model_module_version": "1.2.0",
      "model_name": "LayoutModel",
      "state": {}
     },
     "8d94ebdfe9b34a25aeebae062cd24623": {
      "model_module": "@jupyter-widgets/controls",
      "model_module_version": "1.5.0",
      "model_name": "SliderStyleModel",
      "state": {
       "description_width": ""
      }
     },
     "90226a4c2db04c0488bfe539d49ebe37": {
      "model_module": "@jupyter-widgets/controls",
      "model_module_version": "1.5.0",
      "model_name": "VBoxModel",
      "state": {
       "_dom_classes": [
        "widget-interact"
       ],
       "children": [
        "IPY_MODEL_4582bff1bbbb423c9bc1132736c8fb64",
        "IPY_MODEL_332a2681fcde46b0bcc1e56c629186c2",
        "IPY_MODEL_cfe971550a6d4025a0dac3a5443e0b4d"
       ],
       "layout": "IPY_MODEL_83a75810f7e24bd7a5594c6391a24020"
      }
     },
     "b96bf9e3415844649138aabaa96f84d1": {
      "model_module": "@jupyter-widgets/base",
      "model_module_version": "1.2.0",
      "model_name": "LayoutModel",
      "state": {}
     },
     "ccc2f24f4e2c407893e0041391f890ad": {
      "model_module": "@jupyter-widgets/base",
      "model_module_version": "1.2.0",
      "model_name": "LayoutModel",
      "state": {
       "height": "350px"
      }
     },
     "cfe971550a6d4025a0dac3a5443e0b4d": {
      "model_module": "@jupyter-widgets/output",
      "model_module_version": "1.0.0",
      "model_name": "OutputModel",
      "state": {
       "layout": "IPY_MODEL_ccc2f24f4e2c407893e0041391f890ad",
       "outputs": [
        {
         "data": {
          "image/png": "iVBORw0KGgoAAAANSUhEUgAAAXoAAAEGCAYAAABrQF4qAAAABHNCSVQICAgIfAhkiAAAAAlwSFlzAAALEgAACxIB0t1+/AAAADh0RVh0U29mdHdhcmUAbWF0cGxvdGxpYiB2ZXJzaW9uMy4xLjEsIGh0dHA6Ly9tYXRwbG90bGliLm9yZy8QZhcZAAAgAElEQVR4nO3deXxc1Xnw8d8zWq193yXLlhdJxtjGss0OxmFLCiYBgiELNKSEJrxpmzdvQpqUprRNS5uWLJAQE0gIYQkhBJzE7LYx2HjfZcm2LEuWZO2Sta8z5/1jrkEIyRrbI91Znu/no4/u3Htm5jnW6PHRuWcRYwxKKaUCl8PuAJRSSk0uTfRKKRXgNNErpVSA00SvlFIBThO9UkoFuFC7AxgtJSXF5Ofn2x2GUkr5lZ07d7YYY1LHuuZziT4/P58dO3bYHYZSSvkVEake75p23SilVIDTRK+UUgFOE71SSgU4TfRKKRXgNNErpVSA00SvlFIBThO9UkoFOE30SikV4DTRK6VUgPO5mbFKBYpntx73uOwdy/ImMRIV7LRFr5RSAU4TvVJKBTjtulFBT7tYVKDTFr1SSgU4TfRKKRXgNNErpVSA00SvlFIBTm/GKnUWjDGUN3Txdlkj7x5pITRESI+LZH52PJ8tySU6Qn+1lO/QT6NSZ6izf4jv/GE/f9lfD8B52XGEhTjYXNHKS7vq+NFbR7jr4nySosMJC9E/mpX9NNErdQZKT3Tw1Wd2UdvexzeunsOqJbmkxUV+cH338XZ+tuEoP377CDmJ0/j8sunETQuzMWKltI9eKY+1dA9w++otDAy5+N09F/L1FbM/kuQBFuUl8vgXS1j9hcU0dQ7wsw0V1J3ssylipdw00SvlgYEhJ7/dUk2IQ/j9vRdRkp902vLXzMvg3isKcDiEX206RlvP4BRFqtTHaaJXagIuY/j9zlpaugd45I4LyE2K8uh5GfGRfOmSGRgDT71fRd+gc3IDVWocmuiVmsDu4+0crO/kuvMyuWRWyhk9NyUmgs8ty6Ote5Dnth3HZcwkRanU+DTRK3Ua/UNOXi9tJC8piksKks/qNWamxnDjgiwqmrvZUtnq5QiVmphHiV5ErhORQyJSISL3j3E9QkR+Z13fKiL51vl8EekTkT3W12PeDV+pybXhUBPdA8P81fmZiMhZv05JfiJz0mN4o7SRdu2vV1NswkQvIiHAo8D1QDFwu4gUjyp2N9BujJkFPAw8NOLaUWPMQuvrXi/FrdSka+keYFNFKxfkJZKT6Fm//HhEhJsWZoPAy3vqMNqFo6aQJy36pUCFMabSGDMIPA+sHFVmJfCUdfwisELOpfmjlA9482AjISHCNfPSvfJ6CVHhXDsvgyNN3eyt7fDKayrlCU8SfTZQM+JxrXVuzDLGmGGgAzjVoTlDRHaLyDsictlYbyAi94jIDhHZ0dzcfEYVUGoytPUMcqCugwtnJBEX6b0JT8tmJJEVH8lbZY04XdqqV1PDk0Q/Vst89Cd0vDL1QJ4xZhHwDeBZEYn7WEFjVhtjSowxJampqR6EpNTkeq+iGYcIFxec2SibiThEuLo4nbaeQXZUt3n1tZUajyeJvhbIHfE4BzgxXhkRCQXigTZjzIAxphXAGLMTOArMOdeglZpMPQPD7KxuZ2FuwqQsXzAnPZa8pCjWlzcx5HR5/fWVGs2TtW62A7NFZAZQB6wC7hhVZg1wJ/A+cAuwzhhjRCQVd8J3ishMYDZQ6bXolZoEWypbGXIaLp398db8mWw7OB6xWvVPvHeMrcfauPQMx+YrdaYmbNFbfe73Aa8DZcALxphSEXlQRG60ij0BJItIBe4umlNDMC8H9onIXtw3ae81xujfq8pnDTldvF/ZSmFGLOmj1rHxpoLUGApSo9l4uJlhbdWrSebR6pXGmLXA2lHnHhhx3A/cOsbz/gD84RxjVGrKHDzRSe+gk4vOcnLUmbhsdiq/3lzF/jodgaMml86MVWqE7VVtJEaFUZAaM+nvNTsthtTYCDYfbdVx9WpSaaJXytLaPUBlSw8l+Uk4pmAaiIhwcUEydSf72FndPunvp4KXJnqlLNur2nEILM5LnLL3XJSbSGSYg19tqpqy91TBRxO9UoDTZdh1vJ256bFTuiNUeKiDJflJvFbawAndoERNEk30SgHlDZ10DwyzZIINRSbDhTOScboML+6snfL3VsFBE71SwO7jJ4mNCGV2euyUv3didDgXzUzmxZ21elNWTQrdHFwFvb5BJ4cau7hwRhIhDnvW4stJnMb7la38YG05M1Kixy13x7K8KYxKBQpt0augd6CuA6fLsHAKb8KONi8rnohQB7t09I2aBJroVdDbXXOS1JgIsuInbybsRMJDHczPjmd/XQcDw7q3rPIuTfQqqNW291LV2sPCvIRz2kHKGxZPT2TQ6aK0rtPWOFTg0USvgtqave6FWBfkJNgcCeQlRZEcHc7uGu2+Ud6liV4FLWMMf9xVx/SkKJKiw+0OBxHh/Jx4Kpt76OofsjscFUA00augdbC+kyNN3SzMs781f8r8nAQMUHpCu2+U92iiV0HrlT0nCHUI87Pi7Q7lAxlxkaTFRrBP95RVXqSJXgUlp8vwyp46rpybRlSEb00nmZ8TT3VrDx192n2jvEMTvQpKWypbaewc4NOLRu9zb7/zs93dNwd0nXrlJZroVVB6eXcdMRGhrChKszuUj0mNjSAzPpJ9tSftDkUFCE30Kuj0Dzl59UAD15+XQWRYiN3hjGl+djw17X3afaO8QhO9CjpvlTXSPTDsk902pxRnxgFQVq+jb9S500Svgs7Lu0+QHhfBspmTvy/s2UqNjSA5OpyDmuiVF2iiV0GlrWeQDYeaWLkw27aVKj0hIhRnxVHZ3E3foK59o86NJnoVVP6yv55hl+Gmhb7bbXNKcWYcLgOHG7vsDkX5OU30Kqi8sruOOekxFGVO/QYjZyo3KYro8BDtvlHnTBO9ChrHW3vZUd3OTYuybV+p0hMOEYoy4zjc2MWw02V3OMqPaaJXQeOVPXUArPSDbptTijLjGBh2UdnSY3coyo9poldBweUyvLirlgtnJpGdMM3ucDw2Ky2GsBDRYZbqnGiiV0Fh67E2qlt7uW1Jrt2hnJGwEAez02Ipq+/EpRuHq7OkiV4FhRd21BAbGcr152XaHcoZK86Mo7N/mBMn++wORfkpTfQq4HX0DbF2fz03Lsjy2SUPTqcwIxYBHX2jzppHiV5ErhORQyJSISL3j3E9QkR+Z13fKiL5o67niUi3iHzTO2Er5bk1e08wMOzyu26bU6IiQslPidZ+enXWJkz0IhICPApcDxQDt4tI8ahidwPtxphZwMPAQ6OuPwy8eu7hKnXmXtheQ2FGLPOzfWeDkTNVlBlHY+cA1a06+kadOU9a9EuBCmNMpTFmEHgeWDmqzErgKev4RWCFWAOVReQmoBIo9U7ISnlub81J9td1sGpJrl+MnR/PqUXO3jzYaHMkyh95kuizgZoRj2utc2OWMcYMAx1AsohEA98G/uV0byAi94jIDhHZ0dzc7GnsSk3oqc1VRIeHcPPiHLtDOSdJ0eFkxEXyRqkmenXmPEn0YzWDRo/zGq/MvwAPG2O6T/cGxpjVxpgSY0xJamqqByEpNbGW7gH+vK+emxfnEBsZZnc456wwM5Yd1W209wzaHYryM54k+lpg5F2sHODEeGVEJBSIB9qAZcB/iUgV8PfAP4rIfecYs1IeeW7rcQadLr54Ub7doXhFUYZ7kbN3DutfverMeJLotwOzRWSGiIQDq4A1o8qsAe60jm8B1hm3y4wx+caYfOBHwA+MMY94KXalxjXkdPHbrdVcNjuFWWkxdofjFdmJ00iJCeetMu2+UWdmwkRv9bnfB7wOlAEvGGNKReRBEbnRKvYE7j75CuAbwMeGYCo1lV490EBj5wB3XZxvdyhe4xBh+dw03jnczJAucqbOQKgnhYwxa4G1o849MOK4H7h1gtf4/lnEp9QZc7kMP1tfQUFqNFfO9b3Nv8/FiqJ0fr+zlu1VbVxckGJ3OMpP6MxYFXDeLm+ivKGLr145y6d3kTobl81OITzEwdtlTXaHovyIJnoVUIwxPLK+gtykady4MMvucLwuOiKUCwuSWVeuiV55ThO9CiibKlrZW3OSe68oICwkMD/enyhK41hLD0ebTztqWakPBOZvggpKxhh+8vYR0uMiuMXPJ0idzlWF7vsO67T7RnlIE70KGOvKm9hW1cZ9y2cREep/q1R6KicxisKMWB1mqTzm0agbpXzdsNPFf75azoyUaFYtzePZrcftDmlSrShK47F3KunoHSI+yv9n/arJpS16FRD+sKuWI03dfOvauQHbNz/SVYXpOF2GDYe1+0ZNLPB/I1TA6xt08r9vHmZRXgLXnZdhdzhTYmFuAsnR4TrMUnlEE73yez9dd4TGzgH+8ZNFfr0U8ZkIcQjLC9PYcKiJYZ0lqyagiV75tSONXTz+biU3X5DDkvwku8OZUisK0+jsH2ZHdbvdoSgfp4le+S1jDN97+QBR4aH84ycL7Q5nyl02J5WwEOFtHX2jJqCJXvmtl3bVsfVYG9++rpDkmAi7w5lyMRGhXDgzmbd1lqyagCZ65ZdO9g7yg7VlLMpLYJWfbvrtDSsK06hs7uFYi+4lq8aniV75pYdeO8TJviH+/ab5OAJs4bIzsaIoHUC7b9RpaaJXfmdndTvPbTvOXRfnU5wVZ3c4tspNimJOeowOs1SnpYle+ZVhp4vvvXyAjLhI/uHqOXaH4xNWFKWzvaqNjr4hu0NRPkoTvfIrv95cRVl9J/98QzExEbqCB7hXsxx2GTbqXrJqHJrold+oO9nH/755mKsK04JmBqwnFuYmkhQdrv30alya6JXf+P6aUlzG8C83zguaGbCeCHEIV85NZf2hZp0lq8akiV75hTdKG3jzYCN//4k55CZF2R2Oz1lRmE5H3xC7jp+0OxTlgzTRK5/XMzDM99eUMjc9lrsvnWF3OD7p8jkpOktWjUsTvfJ5D795mBMd/fzgM+cFxRLEZyM2MoxlM3SWrBqb/tYon1Z6ooNfba7i9qW5LJ4eXIuWnamrCtOoaOqmulVnyaqP0vFpylan2wnKGMMvNlYSGeqgIDUm4HeNOlefKErnwT8f5K2yJu3iUh+hLXrls/bVdXC8rZdr52UQFa5tkonkJUcxOy2GdeXaT68+ShO98klDThevH2ggMz6SC6Yn2h2O37iqKI2tlW109ussWfUhTfTKJ22uaOFk3xCfnJ+JQ8fMe+wTRekMuwzvHm6xOxTlQzTRK5/T1T/EhsPNFGXEUpAaY3c4fmVRbgIJUWE6zFJ9hEeJXkSuE5FDIlIhIvePcT1CRH5nXd8qIvnW+aUissf62isin/Zu+CoQvV3WxJDTxXXnZdodit8JDXGwfG4a6w814XQZu8NRPmLCRC8iIcCjwPVAMXC7iBSPKnY30G6MmQU8DDxknT8AlBhjFgLXAb8QEb2rpsbV0NnP9qo2ls1MJjU2+HaN8oYVRWm09w6x+7juJavcPGnRLwUqjDGVxphB4Hlg5agyK4GnrOMXgRUiIsaYXmPMsHU+EtAmhjqtV/fXExHmYMXcNLtD8VuXz0kl1CG8pWvUK4sniT4bqBnxuNY6N2YZK7F3AMkAIrJMREqB/cC9IxL/B0TkHhHZISI7mpt1qdVgdbixiyNN3VxVmE6ULkF81uIiw1g6I0mHWaoPePLbNNaQh9Et83HLGGO2AvNEpAh4SkReNcb0f6SgMauB1QAlJSXa6g9CLmN47UADSdHhXDhTZ8COx9NJY4lR4Ww+2kpNW68uAqc8atHXAiN3X84BToxXxuqDjwfaRhYwxpQBPcB5ZxusClz7ajto6Ozn6qJ0Qh06GOxcFWbEAvCWjr5ReJbotwOzRWSGiIQDq4A1o8qsAe60jm8B1hljjPWcUAARmQ7MBaq8ErkKGE6X4a2yRjLjI5mfE293OAEhOSaCgtRo1ukiZwoPEr3Vp34f8DpQBrxgjCkVkQdF5Ear2BNAsohUAN8ATg3BvBTYKyJ7gD8CXzXG6EwO9RE7qtto6xnk6uJ0nRzlRSuK0tlS2UqXzpINeh7d8TLGrAXWjjr3wIjjfuDWMZ73NPD0OcaoAtjgsIt15U1MT4pibnqs3eEEFGNgyGn4wdpy5mef/i+lO5blTVFUyg7aGaps5W5xDnPNvAzdHtDL8pKimBYWwqGGTrtDUTbTRK9s09E3xDuHm5mTHsOMlGi7wwk4IQ5hTnoM5Q1duIwOZgtmmuiVbR7fWEnfkJNrijPsDiVgFWbG0TvopLat1+5QlI000StbNHcN8OSmY8zPjicrYZrd4QSsOWmxOATKGrrsDkXZSBO9ssUj644wMOzi6qJ0u0MJaNPCQ5ieHE259tMHNU30aspVt/bw7Lbj3LYklxRduGzSFWXE0tg5QHvPoN2hKJtooldT7n/eOEyIQ/i7FbPtDiUoFGbGAWirPohpoldT6kBdB2v2nuDuS2eQHhdpdzhBISUmgpSYcMq1nz5oaaJXU+qh18pJiArjK1cU2B1KUCnMiKOypYeBIafdoSgbaKJXU2ZTRQvvHmnha1fOIi4yzO5wgkphRixOl+FIU7fdoSgbaKJXU8IYw0OvlZMVH8kXLppudzhBZ3pyNJFhDg5p901Q0kSvpsTa/Q3sq+3gH66eQ2RYiN3hBB33LNlYyht1lmww0kSvJt2Q08UP3zjEnPQYPnNBjt3hBK3CjDh6Boapa++zOxQ1xTTRq0n3zJZqjrX08K1rCwlx6MJldpmbfmqWrA6zDDaa6NWkOtk7yMNvHeGSWcmsKNINv+10apZsWb0m+mCjOzArrxu5r+mf952gs2+IC/ISeW5bzWmepaZCcWYcf9lfT2v3AMkxOis5WGiLXk2a5q4BtlS2UpKfRGa8LlzmC4qtWbIHtVUfVDTRq0nz6oF6wkIcfEK7bHxGYnQ4mfGRmuiDjCZ6NSmONHVR3tDF8rlpxOrkKJ9SnBnH8dZeugeG7Q5FTRFN9MrrnC7D2v31JEaFcXFBst3hqFGKs+IwQLm26oOGJnrldTuq22jsHOD68zIJDdGPmK/JiIskMSpMu2+CiP4WKq/q7B/irYON5CdHMy8rzu5w1BhEhKLMOCqauhkY1kXOgoEmeuVVj66roHfQyafmZyKik6N8VXFmHMMuw5FGXeQsGGiiV15T3drDk5uOsSgvkexEHU7py6YnRzMtLES7b4KEJnrlNf+xtpywEAfXFOs+sL4uxCEUZcZS3tCJ06WLnAU6TfTKK7ZWtvJaaQN/e0UBcdN0OKU/KM6Mo3/IxbGWHrtDUZNME706Z8YYfvBqOZnxkXz5spl2h6M8NCstlrAQ0e6bIKCJXp2zVw80sLfmJP9w9Rymheta8/4iPNTBrLRYyuo7MbpGfUDTRK/OyZDTxX+/7l5r/mZda97vFGfG0dE3xIE6bdUHMo8SvYhcJyKHRKRCRO4f43qEiPzOur5VRPKt81eLyE4R2W99v8q74Su7Pb/tOMdaevj2dbrWvD8qzHCvUf/qgXq7Q1GTaMJELyIhwKPA9UAxcLuIFI8qdjfQboyZBTwMPGSdbwFuMMbMB+4EnvZW4Mp+PQPD/PjtIyydkcRVhbpwmT+KjghlZkoMa/fXa/dNAPOkRb8UqDDGVBpjBoHngZWjyqwEnrKOXwRWiIgYY3YbY05Y50uBSBHRRbADxOPvVtLSPcj91xfq5Cg/Nj87nqrWXkpPaPdNoPJk45FsYOSOEbXAsvHKGGOGRaQDSMbdoj/lZmC3MWZg9BuIyD3APQB5eXkeB6+mzsjNRAC6+of42fqjzMuKo7y+i/L6LpsiU+eqOCuONftOsHZ/Pedlx9sdjpoEnrTox2qqjf4b77RlRGQe7u6cr4z1BsaY1caYEmNMSWpqqgchKbutP9TEsMvFtcUZdoeizlF0RCgXFyTzF+2+CVieJPpaIHfE4xzgxHhlRCQUiAfarMc5wB+BLxpjjp5rwMp+bT2DbDvWxpL8JFJitScuEHxqfibV2n0TsDxJ9NuB2SIyQ0TCgVXAmlFl1uC+2QpwC7DOGGNEJAH4C/AdY8wmbwWt7LXhUBMOEZbP1RuwgeKaeRmEOIS/7NfRN4FowkRvjBkG7gNeB8qAF4wxpSLyoIjcaBV7AkgWkQrgG8CpIZj3AbOAfxKRPdaXZgc/1t4zyK7j7SzJT9KlDgJIUnQ4Fxck86e9J7T7JgB5cjMWY8xaYO2ocw+MOO4Hbh3jef8G/Ns5xqh8yIbDTYgIl8/ReymB5qaF2fzf3+9lZ3U7JflJdoejvEhnxiqPtfcOsqv6JCXTE4nX1nzAue68DKaFhfDS7jq7Q1FepoleeezdI+7Rsldoaz4gRUeEcs28dP6yr153ngowmuiVR3oHh9lZ3cbC3AQSosLtDkdNkk8vyqajb4j15c12h6K8SBO98si2Y20MOQ2XzEqxOxQ1iS6dlUJKTAQva/dNQNFEryY0MOzk/aOtzE6LISM+0u5w1CQKDXFw44Is1pU3cbJ30O5wlJd4NOpGBabRyxqMZ2d1O10Dw9yirfmgcPPibJ7cdIw/7q7jry+ZYXc4ygu0Ra9OyxjDpooWMuIimZUWY3c4agrMy4pnQU48z207rmPqA4QmenVaFU3dNHT2c8msFF2hMojcsSyPw43d7KxutzsU5QWa6NVpvVfRQmxEKAtydFXDYPJX52cRExHqcfee8m2a6NW4Gjr6OdLUzUUFyYSG6EclmERHhHLToiz+vL9eb8oGAP3tVeN6r6KFsBBh6QydDh+M7lg6ncFhF3/YpUMt/Z0mejWmzv4h9tacZPH0RKLCdXBWMCrOimPx9ER+vfkYTpfelPVnmujVmLZUtuIyhksKdEhlMPuby2ZS09bHawca7A5FnQNN9OpjBoddbK1soygzjuQY3VgkmF1dnE5+chSrNx7VoZZ+TBO9+phdx9vpG3JyqU6QCnohDuHuy2ayt7aD7VU61NJfaaJXH+GyJkjlJE5jenKU3eEoH3DLBTkkRYezeqPuBOqvNNGrjyiv76S1Z5BLdYKUskwLD+GLF03nrbImDtR12B2OOgua6NVHvFvRQkJUGPOydIKU+tCXLp1B/LQwfvjGIbtDUWdBE736QE1bL9WtvVxSkEKIQ1vz6kNxkWH87ZUFbDjUzLZjbXaHo86QDpBWH3ivooXIMAcl0xPtDkVNMU+WOogMDSE2MpT/fr2cF75ykXbt+RFt0SsA2nsGOVDXwZL8JCLCQuwOR/mg8FAHy+emsb2qnbfLmuwOR50BTfQKgM1HWxCBi3WClDqNkvxEClKjefDPB+kf0n1l/YUmekXfoJPt1e2cn5NA/LQwu8NRPizU4eBfV57H8bZefr5Bh1v6C030ii3HWhkcdukEKeWRi2elcMOCLH7+zlGqWnrsDkd5QBN9kBscdrGpooW56bFkJUyzOxzlJ773qSLCQxx87+UDuHTBM5+niT7I7ahuo3fQyZVzU+0ORfmR9LhI7r++kPcqWvjN+1V2h6MmoIk+iA27XLx7pIX85CimJ0fbHY7yM59blsfyuan8x6vlHGnssjscdRo6jj6I7Tl+ko6+IT69KNvuUJQfGTnm/sKZyWw91sadT27j3isKPrYT2R3L8qY6PDUGj1r0InKdiBwSkQoRuX+M6xEi8jvr+lYRybfOJ4vIehHpFpFHvBu6OhcDw07WlTeRnTCN2Wkxdoej/FRsZBifWZTDiY5+/ry/3u5w1DgmTPQiEgI8ClwPFAO3i0jxqGJ3A+3GmFnAw8BD1vl+4J+Ab3otYuUVz2w5zsm+Ia6dl6EzHNU5Kc6K4/LZKWw71saOKl0ewRd50qJfClQYYyqNMYPA88DKUWVWAk9Zxy8CK0REjDE9xpj3cCd85SO6B4Z5dH0FM1OjmaWteeUFVxdnMCs1hlf2nqCmrdfucNQoniT6bKBmxONa69yYZYwxw0AHkOxpECJyj4jsEJEdzc3Nnj5NnaUn3j1Ga88g1xZn2B2KChAhDmHVklziIkN5eks17T2DdoekRvAk0Y/1d/3ogbOelBmXMWa1MabEGFOSmqrD/CZTQ0c/qzce5ZridHKTdGMR5T1REaHceVE+Tpfh15ur6B0ctjskZfEk0dcCuSMe5wAnxisjIqFAPKCddT7owT+XMuwyfPdTRXaHogJQWlwkn79wOm29gzy9pVqTvY/wJNFvB2aLyAwRCQdWAWtGlVkD3Gkd3wKsM7qTsM/ZcKiJtfsbuG/5LB03rybNjJRoPluSy/HWXr781A5d/MwHTJjorT73+4DXgTLgBWNMqYg8KCI3WsWeAJJFpAL4BvDBEEwRqQL+F7hLRGrHGLGjpkD/kJMHXillZmo091wx0+5wVICbnx3PLYtzeL+ylb/5jSZ7u3k0YcoYsxZYO+rcAyOO+4Fbx3lu/jnEp7zkP18t53hbL898eRkRobrevJp8i/ISWZKfxLf+sI+//e1OHvvCYv3s2USXQAgCrx1o4Nebq/jSJTO4RFeoVFPos0ty+cGn57P+UDP3PbubIafL7pCCkib6AFfb3su3XtzL+Tnx3H99od3hqCB0x7I8Hlw5jzcPNvK1Z3ZpN44NdK0bP+HJnp6nnFpfpKt/iHt/uxOXgZ/evojwUP1/Xdnjixfl43IZvv+ng/z1r7az+ouLiY3UTW6miv7mB6j+ISf3/GYn5fVd/PT2RTrKRtnurktm8KPbFrK9qo1Vq7fQ3DVgd0hBQxN9ABocdvF3z+/m/cpWfnjrApYXptkdklIA3LQom8fvLOFocze3PrZZl0uYIproA0zfoJO7frWN10sb+ecbirlJlyBWPmb53DSe+fKFtPcOcfPPN1NW32l3SAFP++gDSGv3gHudkd5B/ufWBdy8OMfukFSQO929pbsuzudXm46x8tFNrCrJ5cGbzpvCyIKLtugDgDGGHVVt/HR9BZ39Q/zmS8s0ySuflx4Xyd9eOYvUmAie3lLNL9+tRCfUTw5N9H7uVCv+pd115CRM4+tXzeaiAo8XDlXKVvHTwviby2ZSnBXHv/2ljO+8tJ/BYR1r723adeOn+gadbDzSzHsVLYSI8Mn5mYVkMpwAAA5fSURBVFxckIxDNxFRfiY81MHtS/No6OjnkfUVVLX28PPPLSYxOtzu0AKGJno/0zfoZNPRFjYfbaF/yMWi3ASunZdB3DQdk6z8l0OErIRpfLYkh5d21bH8fzZwx9I8chLHXkpb96I9M5ro/cToBF+UGcdVhWlkJ0yzOzSlvGZhbiIpMRE8u/U4v9hYyY0LsliSn2R3WH5PE72PO9k7yBPvHWP1xkoGhl0UWwk+SxO8ClA5iVF8bfksXthRwx9311HT1ssNC7IIC9FbimdLE72P6uwf4pcbK3lyUxXdA8PMy3In+Mx4TfAq8EVHhHLnxfm8XdbI+kPN1Hf0c8fSPO23P0ua6H1M36CTX2+u4rF3jtLRN8Qn52fw9RWz2VV90u7QlJpSDhGuLs4gJzGK3++s4ZH1Fdy2JJc56bF2h+Z3NNHbaORkkmGXi+1V7Wwob6JrYJi56bF84cLpZCVM0ySvglpRZhxfu3IWz2w9zlObq1hemMZtS3IJcegIM09poreZ02XYU3OSt8sbOdk7RH5yNLcvzSM/RRchU+qU5JgI7r2igFf21LGuvIk7Ht/Cj1Yt1K5MD2mi9zJPlxN2GUPpiU7eOthIc/cA2QnT+PTCbGalxSA6Fl6pjwkPdXBrSS4FaTGs3V/PJ3/8Lj+8dQEritLtDs3naaKfYsYYDjd28+bBBk509JMWG8EdS/OYlxWnCV4pD1yQl8hXryzgvmd3c/dTO/jrS/L59nWFRIbpNoXj0UQ/hY619PBGaQPVbb0kRoVx6+IcFuQm6GxWpc7Qlso2bluSy2sHGvjVpir+vK+emy/IIS/p4xOsdHKVJvopUdvey5sHGznS1E1sZCgrF2axeHoioQ4dF6zU2QoLcXDDgizmZsTyx911/OKdo1wyK4VPFKXrbmqjaKKfRI2d/bxV1kjpiU6iwkO4/rwMLpyZPOkTP85k20Gl/N2c9Fj+bsVsXjvQwHsVLZTVd/KZC3KYoQMaPqCJfhK09Qzydlkje2pOEh7qYEVhGpfMStE+RKUmSWRYCDctymZ+Tjwv7arl8XcrWWitA6U00XtVTVsvL++uY0d1Gw4RLp2dwhWzU4mK0H9mpaZCQWoMX18xm3cOuVd2LT3RQVf/EH9z2cygnlUrvrbQf0lJidmxY4fdYZyR6tYeHl1fwUu76jBAyfREls9N0xUllbJRe88grx9sYH9dB9HhoXzxounceXE+6XGRdoc2KURkpzGmZMxrmujP3qGGLn6x8Siv7DlBiEO4Y2ke6XGRxGuCV8pnLJ6eyE/ePsLaA/Uf7N2wamkuF85IxhFAs2s10XvRkNPFmwcbeWpzFVuPtREZ5uBzy6bzlctnkhYXqTdClfJRrd0DbKlsZUd1OwPDLhKiwjg/O4GizFhyk6JwiPj1UMzTJXrtPPZQTVsvL+2q49lt1TR2DpCTOI3vXF/IZ0tyg7rvTyl/kRwTwafOz+Lq4gwO1ney63g771U0s/FIM1HhIcxNjyV+WhgXFyQH3O+0JvpxGGM42tzDhkNNrN1fz67j7oXFLp+Tyr/fNJ3lhWm6qJJSfig81MHC3AQW5ibQN+jkcFMXhxq6KG/o4mvP7gKgIDWakulJLM5PpGR6IvnJ0X7dzeNRoheR64AfAyHAL40x/znqegTwG2Ax0ArcZoypsq59B7gbcAJfN8a87rXovWhg2MmRxm4O1HWwraqNbcfaqG3vA6AwI5b/d+1cblyQRe4YM++UUv5pWngIC3ISWJCTgNNlKMyMZduxNnZWt/NaaQO/21ED4G7xZ8RSmBFHUWYss9NiyUuOIiMu0i8afBMmehEJAR4FrgZqge0issYYc3BEsbuBdmPMLBFZBTwE3CYixcAqYB6QBbwlInOMMU5vVwTcrfBBp4vBYRdDTmN9dzEw7D7X0TdEe+8gbT2DtPcM0tI9wPG2Xqrbeqlu7cXpct+vSI4OZ/H0RL5yRQHL56aOu2+lUipwhDiEJflJH2xd6HIZjjZ3s+t4O2X1XZQ3dLJ2fz3PbfvwPlxYiHuv29zEKDLjI0mKCScpKpzEaPf3mMhQIkIdRIaFfOx7WIgDh7jX3RdhUte68qRFvxSoMMZUAojI88BKYGSiXwl83zp+EXhE3FGvBJ43xgwAx0Skwnq9970T/of21Jzkpkc3ndFzYiNDyUmMYk5aLNefl0FRZhzFmXHMSInWBcaUCnIOhzA7PZbZIzY6McbQ2DnA4cYuatp7qW3vo6atl5r2PiqOtNDWM8ig03XW73nDgix+evsib4T/EZ4k+mygZsTjWmDZeGWMMcMi0gEkW+e3jHpu9ug3EJF7gHush90icsij6L3gwMdPpQAtU/X+U0Tr5D8CsV5+U6fPeV50Uur0CPDIHWf99OnjXfAk0Y/VtB09JnO8Mp48F2PMamC1B7FMOhHZMd4QJX+ldfIfgVgvrZP9PFldqxbIHfE4BzgxXhkRCQXigTYPn6uUUmoSeZLotwOzRWSGiITjvrm6ZlSZNcCd1vEtwDrjnom1BlglIhEiMgOYDWzzTuhKKaU8MWHXjdXnfh/wOu7hlU8aY0pF5EFghzFmDfAE8LR1s7UN938GWOVewH3jdhj42mSNuPEin+hC8jKtk/8IxHppnWzmc0sgKKWU8i7dhkUppQKcJnqllApwQZfoReRJEWkSkQMjziWJyJsicsT6nmidFxH5iYhUiMg+EbnAvsjHN06dbhWRUhFxiUjJqPLfsep0SESunfqIJzZOnf5bRMqtn8UfRSRhxDV/rdO/WvXZIyJviEiWdd4vPnswdr1GXPumiBgRSbEe+0W9xvlZfV9E6qyf1R4R+eSIa779+TPGBNUXcDlwAXBgxLn/Au63ju8HHrKOPwm8ins+wIXAVrvjP4M6FQFzgQ1AyYjzxcBeIAKYARwFQuyug4d1ugYItY4fGvFz8uc6xY04/jrwmD999sarl3U+F/cgjmogxZ/qNc7P6vvAN8co6/Ofv6Br0RtjNuIeGTTSSuAp6/gp4KYR539j3LYACSKSOTWRem6sOhljyowxY80w/mBZCmPMMeDUshQ+ZZw6vWGMGbYebsE9LwP8u06dIx5G8+GEQr/47MG4v1MADwPf4qOTJP2iXqep01h8/vMXdIl+HOnGmHoA63uadX6s5R8+toSDnwmUOn0Jd8sQ/LxOIvLvIlKDewb+A9Zpf6/TjUCdMWbvqEt+XS/gPqvL6clTXbz4QZ000Z+eR0s4+Bm/r5OIfBf3vIxnTp0ao5jf1MkY811jTC7u+txnnfbbOolIFPBdPvxP6yOXxzjnF/UCfg4UAAuBeuB/rPM+XydN9G6Np/58tL43WecDcQkHv66TiNwJ/BXwOWN1kOLndRrhWeBm69if61SAu696r4hU4Y59l4hk4Mf1MsY0GmOcxhgX8Dgfds/4fJ000buNXMLhTuCVEee/aI0UuBDoONXF48f8dlkKcW+A823gRmNM74hL/lyn2SMe3giUW8d++9kzxuw3xqQZY/KNMfm4E+EFxpgG/Lheo+4lfJoPF7/1/c+f3XeDp/oLeA73n11DuD+Ad+NeUvlt4Ij1PckqK7g3XTkK7GfE6BVf+hqnTp+2jgeARuD1EeW/a9XpEHC93fGfQZ0qcPeF7rG+HguAOv0Bd8LYB/wJyPanz9549Rp1vYoPR934Rb3G+Vk9bcW8D3dyz/SXz58ugaCUUgFOu26UUirAaaJXSqkAp4leKaUCnCZ6pZQKcJrolVIqwGmiVwFNRDaMXr1zkt7n6yJSJiLPjDp/l4g8Mgnvlz/WapFKjWXCrQSVClYiEmo+XERtIl/FPX762GTGpNTZ0Ba9sp3VOi0TkcetNfTfEJFp1rUPWuQikmJNqT/VUn5ZRP4kIsdE5D4R+YaI7BaRLSKSNOItPi8im0XkgIgstZ4fbS1Mtd16zsoRr/t7EfkT8MYYsX7Dep0DIvL31rnHgJnAGhH5hzGqmCUir4l7v4P/GvFa14jI+yKyy3rPGOv8A1ZcB0RktYiIdX6xiOwVkfeBr414nXkiss1aI33fqNm2SgXfzFj98r0vIB/3ImULrccvAJ+3jjdgzZ4EUoAq6/gu3DNlY4FUoAO417r2MPD3I57/uHV8Odb64sAPRrxHAnAY9zLBd+GeCZk0RpyLcc+MjAZigFJgkXWtCmv256jn3AVUAvFAJO612XOtumwEoq1y3wYesI6TRjz/aeAG63gfcIV1/N8j6vJT3Gv/AIQD0+z+meqXb31p143yFceMMXus4524k/9E1htjuoAuEenAvYQAuJPx+SPKPQfuNcZFJE7cO1NdA9woIt+0ykQCedbxm8aYsdYivxT4ozGmB0BEXgIuA3ZPEOfbxpgO6zkHgem4/3MpBjZZDfZw4H2r/HIR+RYQBSQBpSKyEUgwxrxjlXkauN46fh/4rojkAC8ZY45MEI8KMprola8YGHHsBKZZx8N82MUYeZrnuEY8dvHRz/bodT4M7jVXbjajNmcRkWVAzzgxjrUcrSdG1y3Ueq03jTG3j3r/SOBnuP+KqRGR7+Out4xRDwCMMc+KyFbgU8DrIvJlY8y6s4xVBSDto1e+rgp3lwnALWf5GrcBiMiluFdL7MC9xd3/GdH/vciD19kI3CQiUSISjXvhuHfPMqYtwCUiMst6/ygRmcOH/5m1WH32twAYY04CHVYdwL1JCdZzZwKVxpif4F5sa+RfM0ppi175vB8CL4jIF4CzbaW2i8hmIA73zlQA/wr8CNhnJfsq3Ovcj8sYs0tEfs2HS9D+0hgzUbfNeK/VLCJ3Ac+JSIR1+nvGmMMi8jju7qcqYPuIp/018KSI9OL+j+qU23DfcB4CGoAHzyYmFbh09UqllApw2nWjlFIBThO9UkoFOE30SikV4DTRK6VUgNNEr5RSAU4TvVJKBThN9EopFeD+PySQN/32Ig2DAAAAAElFTkSuQmCC\n",
          "text/plain": "<Figure size 432x288 with 1 Axes>"
         },
         "metadata": {
          "needs_background": "light"
         },
         "output_type": "display_data"
        }
       ]
      }
     }
    },
    "version_major": 2,
    "version_minor": 0
   }
  }
 },
 "nbformat": 4,
 "nbformat_minor": 2
}
