{
 "cells": [
  {
   "cell_type": "raw",
   "metadata": {},
   "source": []
  },
  {
   "cell_type": "code",
   "execution_count": 34,
   "metadata": {},
   "outputs": [
    {
     "data": {
      "application/vnd.jupyter.widget-view+json": {
       "model_id": "01cd99ad1eab42e295db760cee5f2b4c"
      }
     },
     "metadata": {},
     "output_type": "display_data"
    }
   ],
   "source": [
    "\n",
    "%matplotlib inline \n",
    "\n",
    "\n",
    "from ipywidgets import interactive\n",
    "from scipy.stats import bernoulli \n",
    "import matplotlib.pyplot as plt\n",
    "import seaborn as sns\n",
    "import numpy as np\n",
    "\n",
    "\n",
    "def f(tosses_per_sample, number_of_samples):\n",
    "    if(tosses_per_sample ==0) :\n",
    "        print(\"come on toss it at least once!\")\n",
    "    else:\n",
    "        meanheads = np.zeros(number_of_samples)\n",
    "        for i in range(number_of_samples):\n",
    "         meanheads[i] = np.sum(bernoulli.rvs(0.5, loc=0, size= tosses_per_sample , random_state=None))\n",
    "\n",
    "        sns.distplot(meanheads, axlabel = \"number of heads\" )\n",
    "        plt.show()\n",
    "\n",
    "interactive_plot = interactive(f, tosses_per_sample=(0,500), number_of_samples=1000)\n",
    "output = interactive_plot.children[2]\n",
    "output.layout.height = '350px'\n",
    "interactive_plot"
   ]
  },
  {
   "cell_type": "code",
   "execution_count": null,
   "metadata": {
    "collapsed": true
   },
   "outputs": [],
   "source": []
  }
 ],
 "metadata": {
  "kernelspec": {
   "display_name": "Python 3",
   "language": "python",
   "name": "python3"
  },
  "language_info": {
   "codemirror_mode": {
    "name": "ipython",
    "version": 3
   },
   "file_extension": ".py",
   "mimetype": "text/x-python",
   "name": "python",
   "nbconvert_exporter": "python",
   "pygments_lexer": "ipython3",
   "version": "3.6.1"
  }
 },
 "nbformat": 4,
 "nbformat_minor": 2
}
